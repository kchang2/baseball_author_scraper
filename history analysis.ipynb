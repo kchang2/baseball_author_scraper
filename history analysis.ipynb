{
 "cells": [
  {
   "cell_type": "code",
   "execution_count": 2,
   "metadata": {
    "collapsed": false
   },
   "outputs": [
    {
     "name": "stderr",
     "output_type": "stream",
     "text": [
      "Skipping line 4834: expected 4 fields, saw 5\n",
      "Skipping line 26133: expected 4 fields, saw 5\n",
      "Skipping line 28158: expected 4 fields, saw 6\n",
      "Skipping line 33570: expected 4 fields, saw 5\n",
      "Skipping line 33909: expected 4 fields, saw 5\n",
      "Skipping line 36186: expected 4 fields, saw 5\n",
      "Skipping line 36944: expected 4 fields, saw 5\n",
      "Skipping line 39013: expected 4 fields, saw 6\n",
      "Skipping line 39793: expected 4 fields, saw 5\n",
      "Skipping line 40055: expected 4 fields, saw 5\n",
      "Skipping line 40626: expected 4 fields, saw 5\n",
      "Skipping line 42689: expected 4 fields, saw 5\n",
      "Skipping line 47699: expected 4 fields, saw 5\n",
      "Skipping line 48627: expected 4 fields, saw 5\n",
      "Skipping line 51484: expected 4 fields, saw 5\n",
      "Skipping line 51485: expected 4 fields, saw 5\n",
      "Skipping line 51486: expected 4 fields, saw 5\n",
      "Skipping line 51487: expected 4 fields, saw 5\n",
      "Skipping line 51488: expected 4 fields, saw 5\n",
      "Skipping line 51489: expected 4 fields, saw 5\n",
      "Skipping line 51490: expected 4 fields, saw 5\n",
      "Skipping line 51491: expected 4 fields, saw 5\n",
      "Skipping line 51492: expected 4 fields, saw 5\n",
      "Skipping line 51499: expected 4 fields, saw 5\n",
      "Skipping line 52072: expected 4 fields, saw 5\n",
      "Skipping line 52116: expected 4 fields, saw 5\n",
      "Skipping line 52273: expected 4 fields, saw 5\n",
      "Skipping line 55822: expected 4 fields, saw 5\n",
      "Skipping line 56109: expected 4 fields, saw 5\n",
      "Skipping line 56111: expected 4 fields, saw 6\n",
      "Skipping line 56168: expected 4 fields, saw 5\n",
      "Skipping line 56373: expected 4 fields, saw 5\n",
      "Skipping line 67879: expected 4 fields, saw 8\n",
      "Skipping line 68287: expected 4 fields, saw 8\n",
      "Skipping line 68407: expected 4 fields, saw 7\n",
      "Skipping line 69752: expected 4 fields, saw 5\n",
      "Skipping line 70402: expected 4 fields, saw 5\n",
      "Skipping line 70463: expected 4 fields, saw 5\n",
      "Skipping line 75602: expected 4 fields, saw 5\n",
      "Skipping line 76379: expected 4 fields, saw 5\n",
      "Skipping line 78192: expected 4 fields, saw 6\n",
      "Skipping line 79749: expected 4 fields, saw 5\n",
      "Skipping line 79880: expected 4 fields, saw 5\n",
      "Skipping line 80354: expected 4 fields, saw 6\n",
      "Skipping line 80357: expected 4 fields, saw 6\n",
      "Skipping line 80358: expected 4 fields, saw 6\n",
      "Skipping line 80360: expected 4 fields, saw 6\n",
      "Skipping line 83357: expected 4 fields, saw 8\n",
      "Skipping line 90992: expected 4 fields, saw 5\n",
      "Skipping line 91189: expected 4 fields, saw 6\n",
      "Skipping line 91190: expected 4 fields, saw 5\n",
      "Skipping line 91482: expected 4 fields, saw 6\n",
      "Skipping line 91484: expected 4 fields, saw 6\n",
      "Skipping line 95498: expected 4 fields, saw 5\n",
      "Skipping line 112309: expected 4 fields, saw 5\n",
      "Skipping line 117998: expected 4 fields, saw 5\n",
      "Skipping line 130953: expected 4 fields, saw 5\n",
      "Skipping line 131585: expected 4 fields, saw 5\n",
      "Skipping line 132409: expected 4 fields, saw 6\n",
      "\n",
      "Skipping line 135138: expected 4 fields, saw 6\n",
      "Skipping line 143719: expected 4 fields, saw 5\n",
      "Skipping line 144208: expected 4 fields, saw 5\n",
      "Skipping line 144299: expected 4 fields, saw 6\n",
      "Skipping line 145436: expected 4 fields, saw 6\n",
      "Skipping line 145630: expected 4 fields, saw 5\n",
      "Skipping line 146502: expected 4 fields, saw 5\n",
      "Skipping line 146503: expected 4 fields, saw 5\n",
      "Skipping line 148564: expected 4 fields, saw 5\n",
      "Skipping line 148963: expected 4 fields, saw 5\n",
      "Skipping line 149507: expected 4 fields, saw 5\n",
      "Skipping line 150133: expected 4 fields, saw 6\n",
      "Skipping line 150135: expected 4 fields, saw 5\n",
      "Skipping line 153763: expected 4 fields, saw 5\n",
      "Skipping line 154143: expected 4 fields, saw 5\n",
      "Skipping line 155255: expected 4 fields, saw 5\n",
      "Skipping line 156844: expected 4 fields, saw 6\n",
      "Skipping line 157837: expected 4 fields, saw 5\n",
      "Skipping line 158045: expected 4 fields, saw 5\n",
      "Skipping line 158338: expected 4 fields, saw 5\n",
      "Skipping line 161113: expected 4 fields, saw 5\n",
      "Skipping line 161695: expected 4 fields, saw 5\n",
      "Skipping line 162306: expected 4 fields, saw 5\n",
      "Skipping line 164740: expected 4 fields, saw 5\n",
      "Skipping line 164861: expected 4 fields, saw 6\n",
      "Skipping line 164862: expected 4 fields, saw 5\n",
      "Skipping line 164863: expected 4 fields, saw 5\n",
      "Skipping line 164864: expected 4 fields, saw 5\n",
      "Skipping line 164865: expected 4 fields, saw 5\n",
      "Skipping line 164866: expected 4 fields, saw 5\n",
      "Skipping line 164867: expected 4 fields, saw 5\n",
      "Skipping line 164868: expected 4 fields, saw 5\n",
      "Skipping line 165863: expected 4 fields, saw 5\n",
      "Skipping line 166513: expected 4 fields, saw 6\n",
      "Skipping line 166517: expected 4 fields, saw 5\n",
      "Skipping line 167539: expected 4 fields, saw 5\n",
      "Skipping line 168528: expected 4 fields, saw 6\n",
      "Skipping line 168915: expected 4 fields, saw 5\n",
      "Skipping line 172428: expected 4 fields, saw 8\n",
      "Skipping line 173207: expected 4 fields, saw 5\n",
      "Skipping line 174786: expected 4 fields, saw 5\n",
      "Skipping line 175337: expected 4 fields, saw 6\n",
      "Skipping line 178536: expected 4 fields, saw 5\n",
      "Skipping line 178872: expected 4 fields, saw 5\n",
      "Skipping line 179036: expected 4 fields, saw 5\n",
      "Skipping line 179150: expected 4 fields, saw 5\n",
      "Skipping line 183072: expected 4 fields, saw 5\n",
      "Skipping line 183815: expected 4 fields, saw 5\n",
      "Skipping line 183816: expected 4 fields, saw 6\n",
      "Skipping line 183824: expected 4 fields, saw 5\n",
      "Skipping line 184370: expected 4 fields, saw 6\n",
      "Skipping line 184376: expected 4 fields, saw 5\n",
      "Skipping line 184377: expected 4 fields, saw 5\n",
      "Skipping line 188156: expected 4 fields, saw 5\n",
      "Skipping line 190216: expected 4 fields, saw 5\n",
      "Skipping line 198432: expected 4 fields, saw 5\n",
      "Skipping line 201926: expected 4 fields, saw 5\n",
      "Skipping line 205371: expected 4 fields, saw 5\n",
      "Skipping line 206231: expected 4 fields, saw 7\n",
      "Skipping line 213903: expected 4 fields, saw 5\n",
      "\n"
     ]
    }
   ],
   "source": [
    "import pandas as pd\n",
    "import numpy as np\n",
    "\n",
    "df = pd.read_csv('browsing_history.csv', error_bad_lines=False)"
   ]
  },
  {
   "cell_type": "code",
   "execution_count": 3,
   "metadata": {
    "collapsed": false
   },
   "outputs": [
    {
     "data": {
      "text/html": [
       "<div>\n",
       "<table border=\"1\" class=\"dataframe\">\n",
       "  <thead>\n",
       "    <tr style=\"text-align: right;\">\n",
       "      <th></th>\n",
       "      <th>id</th>\n",
       "      <th>idFrom</th>\n",
       "      <th>sUrl</th>\n",
       "      <th>sTitle</th>\n",
       "    </tr>\n",
       "  </thead>\n",
       "  <tbody>\n",
       "    <tr>\n",
       "      <th>0</th>\n",
       "      <td>291743</td>\n",
       "      <td>0</td>\n",
       "      <td>http://pandas.pydata.org/pandas-docs/stable/ge...</td>\n",
       "      <td>pandas.read_csv — pandas 0.18.1 documentation</td>\n",
       "    </tr>\n",
       "    <tr>\n",
       "      <th>1</th>\n",
       "      <td>291742</td>\n",
       "      <td>0</td>\n",
       "      <td>https://www.google.com/search?q=pandas+csv+col...</td>\n",
       "      <td>pandas csv column separator - Google Search</td>\n",
       "    </tr>\n",
       "    <tr>\n",
       "      <th>2</th>\n",
       "      <td>291741</td>\n",
       "      <td>291730</td>\n",
       "      <td>https://addons.mozilla.org/en-US/firefox/addon...</td>\n",
       "      <td>Norwell History Tools :: Add-ons for Firefox</td>\n",
       "    </tr>\n",
       "    <tr>\n",
       "      <th>3</th>\n",
       "      <td>291740</td>\n",
       "      <td>0</td>\n",
       "      <td>http://www.ghacks.net/2014/10/28/export-your-b...</td>\n",
       "      <td>Export your browsing history before you delete...</td>\n",
       "    </tr>\n",
       "    <tr>\n",
       "      <th>4</th>\n",
       "      <td>291739</td>\n",
       "      <td>291734</td>\n",
       "      <td>https://www.google.com/search?q=download+brows...</td>\n",
       "      <td>download browsing history csv firefox - Google...</td>\n",
       "    </tr>\n",
       "  </tbody>\n",
       "</table>\n",
       "</div>"
      ],
      "text/plain": [
       "       id  idFrom                                               sUrl  \\\n",
       "0  291743       0  http://pandas.pydata.org/pandas-docs/stable/ge...   \n",
       "1  291742       0  https://www.google.com/search?q=pandas+csv+col...   \n",
       "2  291741  291730  https://addons.mozilla.org/en-US/firefox/addon...   \n",
       "3  291740       0  http://www.ghacks.net/2014/10/28/export-your-b...   \n",
       "4  291739  291734  https://www.google.com/search?q=download+brows...   \n",
       "\n",
       "                                              sTitle  \n",
       "0      pandas.read_csv — pandas 0.18.1 documentation  \n",
       "1        pandas csv column separator - Google Search  \n",
       "2       Norwell History Tools :: Add-ons for Firefox  \n",
       "3  Export your browsing history before you delete...  \n",
       "4  download browsing history csv firefox - Google...  "
      ]
     },
     "execution_count": 3,
     "metadata": {},
     "output_type": "execute_result"
    }
   ],
   "source": [
    "df.head()"
   ]
  },
  {
   "cell_type": "markdown",
   "metadata": {},
   "source": [
    "### Removes all null values in dataframe"
   ]
  },
  {
   "cell_type": "code",
   "execution_count": 4,
   "metadata": {
    "collapsed": true
   },
   "outputs": [],
   "source": [
    "df_tidy = df[df['sUrl'].notnull()]"
   ]
  },
  {
   "cell_type": "code",
   "execution_count": 5,
   "metadata": {
    "collapsed": false
   },
   "outputs": [
    {
     "name": "stdout",
     "output_type": "stream",
     "text": [
      "(214108, 4)\n"
     ]
    }
   ],
   "source": [
    "print df_tidy.shape"
   ]
  },
  {
   "cell_type": "markdown",
   "metadata": {},
   "source": [
    "We see that the most visited (in terms of specific URL) is facebook.com. Thus, we need to fix that, by extracting anything pertaining to baseball, rather than anything not pertaining to baseball"
   ]
  },
  {
   "cell_type": "code",
   "execution_count": 6,
   "metadata": {
    "collapsed": false
   },
   "outputs": [
    {
     "data": {
      "text/plain": [
       "'http://facebook.com/'"
      ]
     },
     "execution_count": 6,
     "metadata": {},
     "output_type": "execute_result"
    }
   ],
   "source": [
    "df_tidy['sUrl'].value_counts().idxmax()"
   ]
  },
  {
   "cell_type": "code",
   "execution_count": 8,
   "metadata": {
    "collapsed": false
   },
   "outputs": [],
   "source": [
    "b_df = df_tidy[(df_tidy['sUrl'].str.contains('mlb')) \n",
    "              | (df_tidy['sUrl'].str.contains('sbnation')) \n",
    "              | (df_tidy['sUrl'].str.contains('baseball')) \n",
    "              | (df_tidy['sUrl'].str.contains('pitch')) \n",
    "              | (df_tidy['sUrl'].str.contains('fangraph')) \n",
    "              | (df_tidy['sUrl'].str.contains('sabr')) \n",
    "              | (df_tidy['sUrl'].str.contains('hitting'))\n",
    "              | (df_tidy['sUrl'].str.contains('bullpen'))\n",
    "              | (df_tidy['sUrl'].str.contains('sabr'))\n",
    "              | (df_tidy['sUrl'].str.contains('major'))\n",
    "              | (df_tidy['sUrl'].str.contains('league'))\n",
    "              | (df_tidy['sUrl'].str.contains('prospect'))]\n",
    "\n",
    "b_df = b_df[(b_df['sUrl'] != 'http://mlb.mlb.com/home') & (b_df['sUrl'] != 'http://mlb.mlb.com/')\n",
    "           & (~b_df['sUrl'].str.contains('cutfour')) & (~b_df['sUrl'].str.contains('teamworkonline'))\n",
    "           & (~b_df['sUrl'].str.contains('youtube')) & (~b_df['sUrl'].str.contains('fantasysports'))\n",
    "           & (~b_df['sUrl'].str.contains('google.com')) & (~b_df['sUrl'].str.contains('baseball-reference'))\n",
    "           & (b_df['sUrl'] != 'http://sports.yahoo.com/mlb/') & (~b_df['sUrl'].str.contains('vivid'))\n",
    "           & (~b_df['sUrl'].str.contains('/m.mlb.com/video/'))& (~b_df['sUrl'].str.contains('github'))\n",
    "           & (~b_df['sUrl'].str.contains('gameday/'))& (~b_df['sUrl'].str.contains('games.espn.go'))\n",
    "           & (~b_df['sUrl'].str.contains('seats'))& (~b_df['sUrl'].str.contains('fantasy'))\n",
    "           & (~b_df['sUrl'].str.contains('rotowire'))& (~b_df['sUrl'].str.contains('players/'))\n",
    "           & (~b_df['sUrl'].str.contains('ticket'))& (~b_df['sUrl'].str.contains('profile'))\n",
    "           & (~b_df['sUrl'].str.contains('days.to'))& (~b_df['sUrl'].str.contains('abc'))\n",
    "           & (~b_df['sUrl'].str.contains('texas.ranger'))& (~b_df['sUrl'].str.contains('philadelphia.phill'))]\n",
    "\n",
    "\n",
    "b_df.dropna(inplace=True)\n",
    "b_df = b_df.reset_index(drop=True)"
   ]
  },
  {
   "cell_type": "markdown",
   "metadata": {},
   "source": [
    "This is now much better. We've successfully reduced our dataset from ~200k to just under 2k. Now, the next step is to remove all the unique ID tags, as these are associated with JUST the instances of our browsers, not directly tied to any particular site as a unique ID."
   ]
  },
  {
   "cell_type": "code",
   "execution_count": 9,
   "metadata": {
    "collapsed": false
   },
   "outputs": [
    {
     "data": {
      "text/plain": [
       "(1704, 4)"
      ]
     },
     "execution_count": 9,
     "metadata": {},
     "output_type": "execute_result"
    }
   ],
   "source": [
    "b_df.shape"
   ]
  },
  {
   "cell_type": "code",
   "execution_count": 10,
   "metadata": {
    "collapsed": false
   },
   "outputs": [
    {
     "data": {
      "text/html": [
       "<div>\n",
       "<table border=\"1\" class=\"dataframe\">\n",
       "  <thead>\n",
       "    <tr style=\"text-align: right;\">\n",
       "      <th></th>\n",
       "      <th>id</th>\n",
       "      <th>idFrom</th>\n",
       "      <th>sUrl</th>\n",
       "      <th>sTitle</th>\n",
       "    </tr>\n",
       "  </thead>\n",
       "  <tbody>\n",
       "    <tr>\n",
       "      <th>0</th>\n",
       "      <td>291653</td>\n",
       "      <td>291652</td>\n",
       "      <td>http://sabr.org/research/future-baseball-contr...</td>\n",
       "      <td>The Future of Baseball Contracts: A Look at th...</td>\n",
       "    </tr>\n",
       "    <tr>\n",
       "      <th>1</th>\n",
       "      <td>291651</td>\n",
       "      <td>291650</td>\n",
       "      <td>http://www.banishedtothepen.com/the-best-baseb...</td>\n",
       "      <td>The Best Baseball Research of the Past Year | ...</td>\n",
       "    </tr>\n",
       "    <tr>\n",
       "      <th>2</th>\n",
       "      <td>291647</td>\n",
       "      <td>291646</td>\n",
       "      <td>http://sports.yahoo.com/m/d81a6ff1-8063-321c-b...</td>\n",
       "      <td>14 MLB Contracts Teams Will Regret Next Year</td>\n",
       "    </tr>\n",
       "    <tr>\n",
       "      <th>3</th>\n",
       "      <td>291641</td>\n",
       "      <td>0</td>\n",
       "      <td>http://www.fangraphs.com/blogs/the-giants-shot...</td>\n",
       "      <td>The Giants’ Shot at Noah Syndergaard’s Vulnera...</td>\n",
       "    </tr>\n",
       "    <tr>\n",
       "      <th>4</th>\n",
       "      <td>291640</td>\n",
       "      <td>0</td>\n",
       "      <td>http://artofbaseball.net/breaking-down-ichiro-...</td>\n",
       "      <td>Breaking down Ichiro Suzuki’s approach at the ...</td>\n",
       "    </tr>\n",
       "  </tbody>\n",
       "</table>\n",
       "</div>"
      ],
      "text/plain": [
       "       id  idFrom                                               sUrl  \\\n",
       "0  291653  291652  http://sabr.org/research/future-baseball-contr...   \n",
       "1  291651  291650  http://www.banishedtothepen.com/the-best-baseb...   \n",
       "2  291647  291646  http://sports.yahoo.com/m/d81a6ff1-8063-321c-b...   \n",
       "3  291641       0  http://www.fangraphs.com/blogs/the-giants-shot...   \n",
       "4  291640       0  http://artofbaseball.net/breaking-down-ichiro-...   \n",
       "\n",
       "                                              sTitle  \n",
       "0  The Future of Baseball Contracts: A Look at th...  \n",
       "1  The Best Baseball Research of the Past Year | ...  \n",
       "2       14 MLB Contracts Teams Will Regret Next Year  \n",
       "3  The Giants’ Shot at Noah Syndergaard’s Vulnera...  \n",
       "4  Breaking down Ichiro Suzuki’s approach at the ...  "
      ]
     },
     "execution_count": 10,
     "metadata": {},
     "output_type": "execute_result"
    }
   ],
   "source": [
    "b_df.head()"
   ]
  },
  {
   "cell_type": "code",
   "execution_count": 169,
   "metadata": {
    "collapsed": false
   },
   "outputs": [
    {
     "data": {
      "text/plain": [
       "GRE Sentence Equivalence Explanation                                                                        21\n",
       "The Highest and Lowest Paying College Majors | Forbes                                                        7\n",
       "Download Lahman’s Baseball Database – Sean Lahman                                                            5\n",
       "Baseball Prospectus | Baseball Therapy: When Sabermetrics Gets Personal                                      5\n",
       "Giancarlo Stanton Is Still a Baseball God — The Ringer                                                       4\n",
       "Baseball Prospectus | Glossary                                                                               4\n",
       "EasyBib: Free Bibliography Generator - MLA, APA, Chicago citation styles                                     4\n",
       "GRE Sentence Equivalence Practice Test 01                                                                    3\n",
       "wOBA | FanGraphs Sabermetrics Library                                                                        3\n",
       "Players - Team Liquid - Professional Gaming Organization                                                     3\n",
       "The Data Science Behind Baseball Pitching Strategy                                                           3\n",
       "The Giants’ Shot at Noah Syndergaard’s Vulnerability | FanGraphs Baseball                                    3\n",
       "Auto League 241 Best of 2010 : Stats                                                                         3\n",
       "BABIP | FanGraphs Sabermetrics Library                                                                       3\n",
       "Baseball Prospectus | Baseball Therapy: The 10th Man in the Lineup                                           3\n",
       "Bored With ‘Balance’ In Baseball? 2016 Could Be Your Year | FiveThirtyEight                                  3\n",
       "Baseball Prospectus | Moving Beyond WOWY                                                                     3\n",
       "Yankees' bullpen trio and the best bullpens of all time - SweetSpot- ESPN                                    2\n",
       "Sydney Sabre Centre                                                                                          2\n",
       "Books and Downloads                                                                                          2\n",
       "Breaking down Ichiro Suzuki’s approach at the plate | Art of Baseball: Bat Speed and Hitting Drills tips     2\n",
       "Robert Griffin III cleaned out his locker and all he left was this motivational poster - SBNation.com        2\n",
       "News                                                                                                         2\n",
       "Depth Charts » Projected Standings | FanGraphs Baseball                                                      2\n",
       "Most Important Stats: Pitching                                                                               2\n",
       "Baseball | Sports | The Players' Tribune                                                                     2\n",
       "Rays have options for offseason improvement | Tampa Bay Times                                                2\n",
       "Careers                                                                                                      2\n",
       "Symphony No. 3 in E-flat major, Op. 55 (“Eroica”) | LA Phil                                                  2\n",
       "Dead Arm Syndrome - Pitching - Let's Talk Pitching Baseball Forum                                            2\n",
       "                                                                                                            ..\n",
       "PITCHf/x Visualization – Show Me Shiny                                                                       1\n",
       "Former White Sox pitcher Mark Buehrle considering retirement | CSN Chicago                                   1\n",
       "About Sydney Sabre Centre                                                                                    1\n",
       "Jose Berrios picks up first win for Minnesota Twins                                                          1\n",
       "Our Instructors                                                                                              1\n",
       "Cleveland Indians: The New Bullpen Plan with Andrew Miller                                                   1\n",
       "A sad departure: Retirement of Won Wooyoung and Oh Eunseok from the FIE circuit | Epic Sabre                 1\n",
       "Thomas Eshelman » Statistics » Pitching | FanGraphs Baseball                                                 1\n",
       "Brutal and effective: The 4m tactics of the Korean men’s sabre team (Part 1) | Epic Sabre                    1\n",
       "Does Velocity Impact Reliever Success? | Baseball Essential                                                  1\n",
       "Schneider Named Women's Fencing Head Coach at Cornell - Ivy League                                           1\n",
       "absolute light sabre guard vs. standard sabre guard. | Fencing.Net Discussion Forums                         1\n",
       "Why Strasburg/Harper Are the Greatest Prospect Duo Baseball Has Ever Seen | Bleacher Report                  1\n",
       "Zobrist signing may scuttle Rays' talks with Cubs | Tampa Bay Times                                          1\n",
       "Red Sox series win might be final blow to Yankees bullpen hydra | Boston Herald                              1\n",
       "Predicting the Next Pitch - MIT Sloan Analytics Conference                                                   1\n",
       "As Yankees bullpen implodes, Andrew Miller makes hitter look silly (VIDEO) | NJ.com                          1\n",
       "Epic Games' action-centric MOBA Paragon muscles in on League of Legends | PCWorld                            1\n",
       "days until end of baseball season - Google Search                                                            1\n",
       "Ichiro closing in on 3,000 hits with Marlins - NY Daily News                                                 1\n",
       "Rizzo weighs in on Nats' start, Giolito, pitchers and more - Byron Kerr                                      1\n",
       "Brian Dozier » Statistics » Batting | FanGraphs Baseball                                                     1\n",
       "Saberizing a Mac #4: Pitch f/x - Beyond the Box Score                                                        1\n",
       "News and Notes: Corey Kluber stops the recent pitching insanity - Let's Go Tribe                             1\n",
       "[SOLD] Black LP Lightweight Sabre Guards RH | Fencing.Net Discussion Forums                                  1\n",
       "Mark Cuban Drops F-Bombs (For Charity!) During ‘League of Legends’ Match | Upvoted                           1\n",
       "Noah Syndergaard Exits Early, Putting Mets on Alert - The New York Times                                     1\n",
       "403 Forbidden                                                                                                1\n",
       "Greatest known fencer of all time (Epee, Foil, Sabre or all three)? : Fencing                                1\n",
       "Physics Major applying for EE internships                                                                    1\n",
       "dtype: int64"
      ]
     },
     "execution_count": 169,
     "metadata": {},
     "output_type": "execute_result"
    }
   ],
   "source": [
    "b_df['sTitle'].value_counts().idxmax()\n",
    "b_df['sTitle'].value_counts()"
   ]
  },
  {
   "cell_type": "code",
   "execution_count": 170,
   "metadata": {
    "collapsed": false
   },
   "outputs": [
    {
     "data": {
      "text/plain": [
       "Caltech Webmail                                                                                                                25946\n",
       "Facebook                                                                                                                       10977\n",
       "Home Page                                                                                                                       8423\n",
       "Caltech Webmail - Login                                                                                                         1816\n",
       "Google Translate                                                                                                                1578\n",
       "Boingo | The Worldwide Leader in Wi-Fi Software and Services                                                                    1350\n",
       "YouTube                                                                                                                         1036\n",
       "Kai Chang                                                                                                                        894\n",
       "NYM vs. KC - 10/27/2015                                                                                                          831\n",
       "Google Play Music                                                                                                                761\n",
       "MLB.com | The Official Site of Major League Baseball                                                                             724\n",
       "KC vs. NYM - 11/01/2015                                                                                                          611\n",
       "ASCIT Directory Service                                                                                                          606\n",
       "Fantasy Baseball 2016 | Fantasy Baseball | Yahoo Sports                                                                          492\n",
       "Inbox (18) - kaichang.main@gmail.com - Gmail                                                                                     397\n",
       "access.caltech Home                                                                                                              371\n",
       "Yahoo Public 132723 - KaiC's Super Team | Fantasy Baseball | Yahoo Sports                                                        368\n",
       "Google News                                                                                                                      349\n",
       "MLB.com Gameday                                                                                                                  346\n",
       "Fantasy Baseball | Yahoo Sports                                                                                                  333\n",
       "Regis                                                                                                                            328\n",
       "HOU vs. KC - 10/14/2015                                                                                                          316\n",
       "Google Maps                                                                                                                      304\n",
       "(1) Kai Chang                                                                                                                    295\n",
       "TOR vs. TB - 04/03/2016                                                                                                          293\n",
       "Dodgers vs. Nationals Live | 10/13/16                                                                                            293\n",
       "Google Calendar - Week of Oct 30, 2016                                                                                           289\n",
       "Mel Sukonik                                                                                                                      287\n",
       "Google Calendar                                                                                                                  278\n",
       "Player List | Fantasy Baseball | Yahoo Sports                                                                                    271\n",
       "                                                                                                                               ...  \n",
       "Gloves in NFL have gained popularity but use is largely unregulated - LA Times                                                     1\n",
       "yugi's grandpa - Google Search                                                                                                     1\n",
       "Modes of step index multimode fibers                                                                                               1\n",
       "sublime vs aquamacs - Google Search                                                                                                1\n",
       "Adolf Bornheim's CMS page at Caltech                                                                                               1\n",
       "Space Astrophysics Laboratory -- Prof. Martin Group -- Caltech                                                                     1\n",
       "Invite Soon Wei Daniel to Connect | LinkedIn                                                                                       1\n",
       "2013/06/08 Russell Wilson's first pitch - YouTube                                                                                  1\n",
       "Nike Sweet Classic Leather - $54.99 | Sneakerhead.com - 318333-164                                                                 1\n",
       "rihanna the voice - Google Search                                                                                                  1\n",
       "Objective Questions on MOSFET | Electrical4u                                                                                       1\n",
       "Fitting Exponential Decay                                                                                                          1\n",
       "david politzer advisor - Google Search                                                                                             1\n",
       "Yaser Abu-Mostafa | Caltech Directory                                                                                              1\n",
       "Panic! At The Disco - Music on Google Play                                                                                         1\n",
       "Mustang Front Valance California Special With Fog Lights GT 2010-2012 | CJ Pony Parts                                              1\n",
       "Physicsgrad.com                                                                                                                    1\n",
       "Sword of Destiny - Arrested Development Wiki - Wikia                                                                               1\n",
       "go to end in vim - Google Search                                                                                                   1\n",
       "YouTube Live 2008 - Beardyman Beatboxes - YouTube                                                                                  1\n",
       "size of a MCMC step - Google Search                                                                                                1\n",
       "taekwondo olympics why not karate - Google Search                                                                                  1\n",
       "szechuan chicken | Yelp                                                                                                            1\n",
       "Amazon.com: Introduction to Optics (3rd Edition) (9780131499331): Frank L Pedrotti, Leno M Pedrotti, Leno S Pedrotti: Books        1\n",
       "ph78 caltech - Google Search                                                                                                       1\n",
       "DET@NYY: Miggy wins clash of the titans vs. Rivera - YouTube                                                                       1\n",
       "Corey Sherman's (Ardmore, PA) News | MaxPreps                                                                                      1\n",
       "recommended - DCcomics                                                                                                             1\n",
       "nevernotflying - YouTube                                                                                                           1\n",
       "move or die - Google Search                                                                                                        1\n",
       "dtype: int64"
      ]
     },
     "execution_count": 170,
     "metadata": {},
     "output_type": "execute_result"
    }
   ],
   "source": [
    "df_tidy['sTitle'].value_counts().idxmax()\n",
    "df_tidy['sTitle'].value_counts()"
   ]
  },
  {
   "cell_type": "code",
   "execution_count": 11,
   "metadata": {
    "collapsed": false
   },
   "outputs": [
    {
     "data": {
      "text/html": [
       "<div>\n",
       "<table border=\"1\" class=\"dataframe\">\n",
       "  <thead>\n",
       "    <tr style=\"text-align: right;\">\n",
       "      <th></th>\n",
       "      <th>sUrl</th>\n",
       "      <th>sTitle</th>\n",
       "    </tr>\n",
       "  </thead>\n",
       "  <tbody>\n",
       "    <tr>\n",
       "      <th>0</th>\n",
       "      <td>http://sabr.org/research/future-baseball-contr...</td>\n",
       "      <td>The Future of Baseball Contracts: A Look at th...</td>\n",
       "    </tr>\n",
       "    <tr>\n",
       "      <th>1</th>\n",
       "      <td>http://www.banishedtothepen.com/the-best-baseb...</td>\n",
       "      <td>The Best Baseball Research of the Past Year | ...</td>\n",
       "    </tr>\n",
       "    <tr>\n",
       "      <th>2</th>\n",
       "      <td>http://sports.yahoo.com/m/d81a6ff1-8063-321c-b...</td>\n",
       "      <td>14 MLB Contracts Teams Will Regret Next Year</td>\n",
       "    </tr>\n",
       "    <tr>\n",
       "      <th>3</th>\n",
       "      <td>http://www.fangraphs.com/blogs/the-giants-shot...</td>\n",
       "      <td>The Giants’ Shot at Noah Syndergaard’s Vulnera...</td>\n",
       "    </tr>\n",
       "    <tr>\n",
       "      <th>4</th>\n",
       "      <td>http://artofbaseball.net/breaking-down-ichiro-...</td>\n",
       "      <td>Breaking down Ichiro Suzuki’s approach at the ...</td>\n",
       "    </tr>\n",
       "  </tbody>\n",
       "</table>\n",
       "</div>"
      ],
      "text/plain": [
       "                                                sUrl  \\\n",
       "0  http://sabr.org/research/future-baseball-contr...   \n",
       "1  http://www.banishedtothepen.com/the-best-baseb...   \n",
       "2  http://sports.yahoo.com/m/d81a6ff1-8063-321c-b...   \n",
       "3  http://www.fangraphs.com/blogs/the-giants-shot...   \n",
       "4  http://artofbaseball.net/breaking-down-ichiro-...   \n",
       "\n",
       "                                              sTitle  \n",
       "0  The Future of Baseball Contracts: A Look at th...  \n",
       "1  The Best Baseball Research of the Past Year | ...  \n",
       "2       14 MLB Contracts Teams Will Regret Next Year  \n",
       "3  The Giants’ Shot at Noah Syndergaard’s Vulnera...  \n",
       "4  Breaking down Ichiro Suzuki’s approach at the ...  "
      ]
     },
     "execution_count": 11,
     "metadata": {},
     "output_type": "execute_result"
    }
   ],
   "source": [
    "# a = df_tidy.groupby(['sUrl','sTitle'])\n",
    "# a.size()\n",
    "# b_df\n",
    "# b_df['sTitle'].value_counts().idxmax()\n",
    "# b_df['sTitle'].value_counts()\n",
    "del b_df['id']\n",
    "del b_df['idFrom']\n",
    "b_df.head()"
   ]
  },
  {
   "cell_type": "markdown",
   "metadata": {},
   "source": [
    "#### Separate table for MLB, Yahoo, FanGraphs"
   ]
  },
  {
   "cell_type": "code",
   "execution_count": 12,
   "metadata": {
    "collapsed": true
   },
   "outputs": [],
   "source": [
    "Yahoo_df = b_df[(b_df['sUrl'].str.contains('yahoo'))]\n",
    "Fangraph_df = b_df[(b_df['sUrl'].str.contains('fangraph'))]\n",
    "MLB_df = b_df[(b_df['sUrl'].str.contains('mlb'))]\n",
    "b_df = b_df[(~b_df['sUrl'].str.contains('yahoo')) & (~b_df['sUrl'].str.contains('mlb'))]"
   ]
  },
  {
   "cell_type": "code",
   "execution_count": 13,
   "metadata": {
    "collapsed": true
   },
   "outputs": [],
   "source": [
    "b_df = b_df[(~b_df['sUrl'].str.contains('justice')) & (~b_df['sUrl'].str.contains('health'))\n",
    "           & (~b_df['sUrl'].str.contains('olympic')) & (~b_df['sUrl'].str.contains('wiki'))\n",
    "           & (~b_df['sUrl'].str.contains('quora')) & (~b_df['sUrl'].str.contains('.edu'))\n",
    "           & (~b_df['sUrl'].str.contains('.org')) & (~b_df['sUrl'].str.contains('.edu'))]"
   ]
  },
  {
   "cell_type": "code",
   "execution_count": 14,
   "metadata": {
    "collapsed": true
   },
   "outputs": [],
   "source": [
    "b_df = b_df.reset_index(drop=True)\n",
    "Yahoo_df = Yahoo_df.reset_index(drop=True)\n",
    "Fangraph_df = Fangraph_df.reset_index(drop=True)\n",
    "MLB_df = MLB_df.reset_index(drop=True)"
   ]
  },
  {
   "cell_type": "code",
   "execution_count": 15,
   "metadata": {
    "collapsed": false
   },
   "outputs": [
    {
     "name": "stdout",
     "output_type": "stream",
     "text": [
      "(33, 2)\n",
      "(52, 2)\n",
      "(1227, 2)\n",
      "(367, 2)\n"
     ]
    }
   ],
   "source": [
    "print Yahoo_df.shape\n",
    "print Fangraph_df.shape\n",
    "print MLB_df.shape\n",
    "print b_df.shape"
   ]
  },
  {
   "cell_type": "markdown",
   "metadata": {},
   "source": [
    "### Using Beautiful Soup to extract authors\n",
    "Note i got rid of the MLB_df because it would have taken forever to scrape through each site. I just assumed that most of the stuff I read on MLB was less sabremetric and more general news."
   ]
  },
  {
   "cell_type": "code",
   "execution_count": 16,
   "metadata": {
    "collapsed": false
   },
   "outputs": [],
   "source": [
    "import requests, bs4"
   ]
  },
  {
   "cell_type": "code",
   "execution_count": 77,
   "metadata": {
    "collapsed": false
   },
   "outputs": [
    {
     "data": {
      "text/plain": [
       "'http://www.fangraphs.com/community/what-is-more-important-for-a-fastball-velocity-location-or-movement-2/'"
      ]
     },
     "execution_count": 77,
     "metadata": {},
     "output_type": "execute_result"
    }
   ],
   "source": [
    "# b_df['sUrl'][100:200]\n",
    "Fangraph_df['sUrl'][30]"
   ]
  },
  {
   "cell_type": "markdown",
   "metadata": {},
   "source": [
    "#### FanGraphs"
   ]
  },
  {
   "cell_type": "code",
   "execution_count": 103,
   "metadata": {
    "collapsed": true
   },
   "outputs": [],
   "source": [
    "f_graph = []\n",
    "\n",
    "for link in Fangraph_df['sUrl']:\n",
    "    try:\n",
    "        res = requests.get(link)\n",
    "        res.raise_for_status()\n",
    "    except:\n",
    "        pass\n",
    "    nss = bs4.BeautifulSoup(res.text, 'html.parser') # 'lxml' # nss = no starch soup\n",
    "    author = nss.findAll(['p'], attrs={'class': ['post-meta', 'postmeta', 'author']})\n",
    "    if author:\n",
    "        f_graph += author"
   ]
  },
  {
   "cell_type": "code",
   "execution_count": 105,
   "metadata": {
    "collapsed": false
   },
   "outputs": [
    {
     "name": "stdout",
     "output_type": "stream",
     "text": [
      "['Jeff Sullivan', 'Jeff Sullivan', 'Jeff Sullivan', 'Jeff Sullivan', 'Paul Swydan', 'David Laurila', 'Dave Cameron', 'Dave Cameron', 'Dave Cameron', 'David Appelman', 'David Laurila', 'Thomas Karakolis', 'Paul Swydan', 'Brandon Firstname', 'Dave Cameron', 'Craig Edwards', 'Paul Swydan', 'Eric Longenhagen', 'August Fagerstrom', 'Jeff Sullivan', 'Jeff Sullivan', 'David Laurila', 'August Fagerstrom', 'Jeff Sullivan', 'David Laurila', 'Jeff Sullivan', 'Jeff Sullivan', 'Eric Longenhagen', 'Dave Cameron', 'Paul Swydan', 'Paul Swydan', 'David Laurila', 'Eric Longenhagen', 'Chris Mitchell', 'Paul Swydan', 'Eno Sarris', 'Eric Longenhagen', 'Paul Swydan', 'David Appelman', 'Paul Swydan', 'David Appelman', 'Paul Swydan', 'Paul Swydan', 'Chris Mitchell']\n"
     ]
    }
   ],
   "source": [
    "import re\n",
    "\n",
    "a_list_f = []\n",
    "\n",
    "for tag in f_graph:\n",
    "    try: \n",
    "        a_list_f.append(re.search('by (.+?) -', str(tag)).group(1))\n",
    "    except AttributeError:\n",
    "        pass\n",
    "    \n",
    "print a_list_f"
   ]
  },
  {
   "cell_type": "markdown",
   "metadata": {},
   "source": [
    "#### Yahoo"
   ]
  },
  {
   "cell_type": "code",
   "execution_count": 93,
   "metadata": {
    "collapsed": false
   },
   "outputs": [
    {
     "data": {
      "text/plain": [
       "'http://sports.yahoo.com/news/espn-scout-theres-absolutely-no-baseball-justification-for-tim-tebow-232604344.html'"
      ]
     },
     "execution_count": 93,
     "metadata": {},
     "output_type": "execute_result"
    }
   ],
   "source": [
    "Yahoo_df['sUrl'][2]"
   ]
  },
  {
   "cell_type": "code",
   "execution_count": 106,
   "metadata": {
    "collapsed": true
   },
   "outputs": [],
   "source": [
    "yahoo = []\n",
    "\n",
    "for link in Yahoo_df['sUrl']:\n",
    "    try:\n",
    "        res = requests.get(link)\n",
    "        res.raise_for_status()\n",
    "    except:\n",
    "        pass\n",
    "    nss = bs4.BeautifulSoup(res.text, 'html.parser') # 'lxml' # nss = no starch soup\n",
    "    author = nss.findAll('div', attrs={'class': 'author'})\n",
    "    if author:\n",
    "        yahoo += author"
   ]
  },
  {
   "cell_type": "code",
   "execution_count": 128,
   "metadata": {
    "collapsed": false
   },
   "outputs": [
    {
     "data": {
      "text/plain": [
       "[<div class=\"author Mb(4px) Mend(4px) D(ib)\" data-reactid=\"8\"><div class=\"author-name C(#000) Fw(b) Fz(12px) Lh(18px) Mend(3px) Td(n)\" data-reactid=\"9\">Sons of Steve Garvey</div></div>,\n",
       " <div class=\"author Mb(4px) Mend(4px) D(ib)\" data-reactid=\"6\"><a class=\"author-link Td(u):h C(#000) Fw(b) Fz(12px) Lh(18px) Mend(3px) Td(n)\" data-reactid=\"7\" href=\"https://www.yahoo.com/author/mike-oz\">Mike Oz</a></div>,\n",
       " <div class=\"author Mb(4px) Mend(4px) D(ib)\" data-reactid=\"6\"><a class=\"author-link Td(u):h C(#000) Fw(b) Fz(12px) Lh(18px) Mend(3px) Td(n)\" data-reactid=\"7\" href=\"https://www.yahoo.com/author/chris-cwik\">Chris Cwik</a></div>,\n",
       " <div class=\"author Mb(4px) Mend(4px) D(ib)\" data-reactid=\"6\"><a class=\"author-link Td(u):h C(#000) Fw(b) Fz(12px) Lh(18px) Mend(3px) Td(n)\" data-reactid=\"7\" href=\"https://www.yahoo.com/author/chris-cwik\">Chris Cwik</a></div>,\n",
       " <div class=\"author Mb(4px) Mend(4px) D(ib)\" data-reactid=\"5\"><div class=\"author-name C(#000) Fw(b) Fz(12px) Lh(18px) Mend(3px) Td(n)\" data-reactid=\"6\">TOM WITHERS (AP Sports Writer)</div></div>,\n",
       " <div class=\"author Mb(4px) Mend(4px) D(ib)\" data-reactid=\"6\"><div class=\"author-name C(#000) Fw(b) Fz(12px) Lh(18px) Mend(3px) Td(n)\" data-reactid=\"7\">Dalton Del Don</div></div>,\n",
       " <div class=\"author Mb(4px) Mend(4px) D(ib)\" data-reactid=\"6\"><a class=\"author-link Td(u):h C(#000) Fw(b) Fz(12px) Lh(18px) Mend(3px) Td(n)\" data-reactid=\"7\" href=\"https://www.yahoo.com/author/chris-cwik\">Chris Cwik</a></div>,\n",
       " <div class=\"author Mb(4px) Mend(4px) D(ib)\" data-reactid=\"6\"><div class=\"author-name C(#000) Fw(b) Fz(12px) Lh(18px) Mend(3px) Td(n)\" data-reactid=\"7\">David Brown</div></div>,\n",
       " <div class=\"author Mb(4px) Mend(4px) D(ib)\" data-reactid=\"8\"><div class=\"author-name C(#000) Fw(b) Fz(12px) Lh(18px) Mend(3px) Td(n)\" data-reactid=\"9\">Big League Stew staff</div><div class=\"author-title C(#999) Fw(b) Fz(12px) Mend(3px) Mt(4px) D(n)--sm\" data-reactid=\"10\">Big League Stew staff</div></div>,\n",
       " <div class=\"author Mb(4px) Mend(4px) D(ib)\" data-reactid=\"6\"><div class=\"author-name C(#000) Fw(b) Fz(12px) Lh(18px) Mend(3px) Td(n)\" data-reactid=\"7\">Brandon Funston</div></div>,\n",
       " <div class=\"author Mb(4px) Mend(4px) D(ib)\" data-reactid=\"8\"><div class=\"author-name C(#000) Fw(b) Fz(12px) Lh(18px) Mend(3px) Td(n)\" data-reactid=\"9\">Liz Roscher</div></div>,\n",
       " <div class=\"author Mb(4px) Mend(4px) D(ib)\" data-reactid=\"6\"><div class=\"author-name C(#000) Fw(b) Fz(12px) Lh(18px) Mend(3px) Td(n)\" data-reactid=\"7\">Mike Oz</div></div>,\n",
       " <div class=\"author Mb(4px) Mend(4px) D(ib)\" data-reactid=\"5\"><div class=\"author-name C(#000) Fw(b) Fz(12px) Lh(18px) Mend(3px) Td(n)\" data-reactid=\"6\">KEN POWTAK (Associated Press)</div></div>,\n",
       " <div class=\"author Mb(4px) Mend(4px) D(ib)\" data-reactid=\"6\"><div class=\"author-name C(#000) Fw(b) Fz(12px) Lh(18px) Mend(3px) Td(n)\" data-reactid=\"7\">Michael Salfino</div></div>,\n",
       " <div class=\"author Mb(4px) Mend(4px) D(ib)\" data-reactid=\"6\"><div class=\"author-name C(#000) Fw(b) Fz(12px) Lh(18px) Mend(3px) Td(n)\" data-reactid=\"7\">Mark Townsend</div></div>,\n",
       " <div class=\"author Mb(4px) Mend(4px) D(ib)\" data-reactid=\"6\"><div class=\"author-name C(#000) Fw(b) Fz(12px) Lh(18px) Mend(3px) Td(n)\" data-reactid=\"7\">Mark Townsend</div></div>,\n",
       " <div class=\"author Mb(4px) Mend(4px) D(ib)\" data-reactid=\"6\"><div class=\"author-name C(#000) Fw(b) Fz(12px) Lh(18px) Mend(3px) Td(n)\" data-reactid=\"7\">Mark Townsend</div></div>,\n",
       " <div class=\"author Mb(4px) Mend(4px) D(ib)\" data-reactid=\"6\"><div class=\"author-name C(#000) Fw(b) Fz(12px) Lh(18px) Mend(3px) Td(n)\" data-reactid=\"7\">Chris Cwik</div></div>,\n",
       " <div class=\"author Mb(4px) Mend(4px) D(ib)\" data-reactid=\"6\"><div class=\"author-name C(#000) Fw(b) Fz(12px) Lh(18px) Mend(3px) Td(n)\" data-reactid=\"7\">Mark Townsend</div></div>,\n",
       " <div class=\"author Mb(4px) Mend(4px) D(ib)\" data-reactid=\"8\"><a class=\"author-link Td(u):h C(#000) Fw(b) Fz(12px) Lh(18px) Mend(3px) Td(n)\" data-reactid=\"9\" href=\"https://www.yahoo.com/author/tim-brown\">Tim Brown</a><div class=\"author-title C(#999) Fw(b) Fz(12px) Mend(3px) Mt(4px) D(n)--sm\" data-reactid=\"10\">MLB columnist</div></div>,\n",
       " <div class=\"author Mb(4px) Mend(4px) D(ib)\" data-reactid=\"6\"><div class=\"author-name C(#000) Fw(b) Fz(12px) Lh(18px) Mend(3px) Td(n)\" data-reactid=\"7\">Chris Cwik</div></div>]"
      ]
     },
     "execution_count": 128,
     "metadata": {},
     "output_type": "execute_result"
    }
   ],
   "source": [
    "yahoo"
   ]
  },
  {
   "cell_type": "code",
   "execution_count": 132,
   "metadata": {
    "collapsed": true
   },
   "outputs": [],
   "source": [
    "# had to individually parse because trouble with quotes\n",
    "a_list_Y = ['Sons of Steve Garvey', 'Mike Oz', 'Chris Cwik', 'Chris Cwik', 'TOM WITHERS', \\\n",
    "            'Dalton Del Don', 'Chris Cwik', 'David Brown', 'Big League Stew staff', 'Brandon Funston', \\\n",
    "           'Liz Roscher', 'Mike Oz', 'KEN POWTAK', 'Michael Salfino', 'Mark Townsend', 'Mark Townsend', \\\n",
    "           'Mark Townsend', 'Chris Cwik', 'Mark Townsend', 'Tim Brown', 'Chris Cwik']"
   ]
  },
  {
   "cell_type": "markdown",
   "metadata": {},
   "source": [
    "#### other sources"
   ]
  },
  {
   "cell_type": "code",
   "execution_count": 133,
   "metadata": {
    "collapsed": true
   },
   "outputs": [],
   "source": [
    "o_sources = []\n",
    "\n",
    "for link in b_df['sUrl']:\n",
    "    try:\n",
    "        res = requests.get(link)\n",
    "        res.raise_for_status()\n",
    "    except:\n",
    "        pass\n",
    "    nss = bs4.BeautifulSoup(res.text, 'html.parser') # 'lxml' # nss = no starch soup\n",
    "    author = nss.findAll(['div','p', 'a'], attrs={'class': ['post-meta', 'postmeta', 'author']})\n",
    "    if author:\n",
    "        o_sources += author\n",
    "    else:\n",
    "        author = nss.findAll(['div','p', 'a'], attrs={'rel': ['post-meta', 'postmeta', 'author']})\n",
    "    if author:\n",
    "        o_sources += author"
   ]
  },
  {
   "cell_type": "code",
   "execution_count": 135,
   "metadata": {
    "collapsed": false
   },
   "outputs": [],
   "source": [
    "results = map(str, o_sources)"
   ]
  },
  {
   "cell_type": "code",
   "execution_count": 142,
   "metadata": {
    "collapsed": false
   },
   "outputs": [],
   "source": [
    "results = [i for i in results if \"username author\" not in i]\n",
    "results = [i for i in results if \"postmeta\" not in i]\n",
    "results = [i for i in results if \"reddit\" not in i]"
   ]
  },
  {
   "cell_type": "code",
   "execution_count": 149,
   "metadata": {
    "collapsed": false
   },
   "outputs": [
    {
     "data": {
      "text/plain": [
       "75"
      ]
     },
     "execution_count": 149,
     "metadata": {},
     "output_type": "execute_result"
    }
   ],
   "source": [
    "results.count('<div class=\"author\">By Dave Allen</div>')"
   ]
  },
  {
   "cell_type": "code",
   "execution_count": 157,
   "metadata": {
    "collapsed": false
   },
   "outputs": [],
   "source": [
    "#results\n",
    "file = open('authors.txt', 'r')\n",
    "a_list_o = []\n",
    "for line in file:\n",
    "    a_list_o.append(line.split(','))"
   ]
  },
  {
   "cell_type": "code",
   "execution_count": 159,
   "metadata": {
    "collapsed": false
   },
   "outputs": [],
   "source": [
    "a_list_o = a_list_o[-1]"
   ]
  },
  {
   "cell_type": "code",
   "execution_count": 161,
   "metadata": {
    "collapsed": false
   },
   "outputs": [],
   "source": [
    "a_list_o = a_list_o[1:]\n",
    "\n",
    "def remove_space(s):\n",
    "    return s[1:]\n",
    "\n",
    "a_list_o = [remove_space(s) for s in a_list_o]\n",
    "a_list_o[-1] = 'Ryan Heffernon'"
   ]
  },
  {
   "cell_type": "code",
   "execution_count": 164,
   "metadata": {
    "collapsed": false
   },
   "outputs": [],
   "source": [
    "total_a_list = a_list_o + a_list_Y + a_list_f"
   ]
  },
  {
   "cell_type": "code",
   "execution_count": 165,
   "metadata": {
    "collapsed": false
   },
   "outputs": [
    {
     "data": {
      "text/plain": [
       "229"
      ]
     },
     "execution_count": 165,
     "metadata": {},
     "output_type": "execute_result"
    }
   ],
   "source": [
    "len(total_a_list)"
   ]
  },
  {
   "cell_type": "markdown",
   "metadata": {},
   "source": [
    "### Finding top 10 most common authors in list (sorted by all occurances with frequency)"
   ]
  },
  {
   "cell_type": "code",
   "execution_count": 167,
   "metadata": {
    "collapsed": false
   },
   "outputs": [
    {
     "name": "stdout",
     "output_type": "stream",
     "text": [
      "[('David Allen', 75), ('Paul Swydan', 10), ('Jeff Sullivan', 9), ('Russell A. Carleton', 9), ('Rob Arthur', 8), ('Dave Cameron', 5), ('David Laurila', 5), ('Chris Cwik', 5), ('Michael Baumann', 4), ('Mark Townsend', 4)]\n"
     ]
    }
   ],
   "source": [
    "from collections import Counter\n",
    "\n",
    "c = Counter(total_a_list)\n",
    "print c.most_common(10)"
   ]
  }
 ],
 "metadata": {
  "anaconda-cloud": {},
  "kernelspec": {
   "display_name": "Python [Root]",
   "language": "python",
   "name": "Python [Root]"
  },
  "language_info": {
   "codemirror_mode": {
    "name": "ipython",
    "version": 2
   },
   "file_extension": ".py",
   "mimetype": "text/x-python",
   "name": "python",
   "nbconvert_exporter": "python",
   "pygments_lexer": "ipython2",
   "version": "2.7.11"
  }
 },
 "nbformat": 4,
 "nbformat_minor": 0
}
